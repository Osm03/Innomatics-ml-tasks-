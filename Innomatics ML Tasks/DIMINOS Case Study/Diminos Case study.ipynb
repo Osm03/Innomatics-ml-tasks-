{
 "cells": [
  {
   "cell_type": "markdown",
   "id": "d97d18b7",
   "metadata": {},
   "source": [
    "### Innomatics Research Lab - Data Science Internship"
   ]
  },
  {
   "cell_type": "markdown",
   "id": "3e35f7ef",
   "metadata": {},
   "source": [
    "### Diminos Case Study\n",
    "\n",
    "Kanav opened his own pizza shop by obtaining a franchise from the well-known Diminos pizza company. Within 31 minutes of receiving the order, Diminos guarantees to deliver the pizza. If not, the consumer will receive a complimentary pizza. Kanav is managing the store around-the-clock in an effort to boost sales and earnings. Diminos recently informed Kanav that they would be evaluating the 95th percentile of order delivery times in order to determine how well their stores were performing. Kanav needs your assistance to analyse his store's performance so that he can satisfy the metric since he is concerned that failing to do so could result in him losing the franchise."
   ]
  },
  {
   "cell_type": "code",
   "execution_count": 2,
   "id": "11404f01",
   "metadata": {},
   "outputs": [],
   "source": [
    "import numpy as np\n",
    "import pandas as pd\n",
    "import seaborn as sns\n",
    "import matplotlib.pyplot as plt"
   ]
  },
  {
   "cell_type": "code",
   "execution_count": 3,
   "id": "1a5813e5",
   "metadata": {},
   "outputs": [],
   "source": [
    "# Load the data into a Pandas DataFrame\n",
    "df = pd.read_csv(\"diminos_data.csv\")"
   ]
  },
  {
   "cell_type": "code",
   "execution_count": 4,
   "id": "ae2785d3",
   "metadata": {},
   "outputs": [
    {
     "data": {
      "text/html": [
       "<div>\n",
       "<style scoped>\n",
       "    .dataframe tbody tr th:only-of-type {\n",
       "        vertical-align: middle;\n",
       "    }\n",
       "\n",
       "    .dataframe tbody tr th {\n",
       "        vertical-align: top;\n",
       "    }\n",
       "\n",
       "    .dataframe thead th {\n",
       "        text-align: right;\n",
       "    }\n",
       "</style>\n",
       "<table border=\"1\" class=\"dataframe\">\n",
       "  <thead>\n",
       "    <tr style=\"text-align: right;\">\n",
       "      <th></th>\n",
       "      <th>order_id</th>\n",
       "      <th>order_placed_at</th>\n",
       "      <th>order_delivered_at</th>\n",
       "    </tr>\n",
       "  </thead>\n",
       "  <tbody>\n",
       "    <tr>\n",
       "      <th>0</th>\n",
       "      <td>1523111</td>\n",
       "      <td>2023-03-01 00:00:59</td>\n",
       "      <td>2023-03-01 00:18:07.443132</td>\n",
       "    </tr>\n",
       "    <tr>\n",
       "      <th>1</th>\n",
       "      <td>1523112</td>\n",
       "      <td>2023-03-01 00:03:59</td>\n",
       "      <td>2023-03-01 00:19:34.925241</td>\n",
       "    </tr>\n",
       "    <tr>\n",
       "      <th>2</th>\n",
       "      <td>1523113</td>\n",
       "      <td>2023-03-01 00:07:22</td>\n",
       "      <td>2023-03-01 00:22:28.291385</td>\n",
       "    </tr>\n",
       "    <tr>\n",
       "      <th>3</th>\n",
       "      <td>1523114</td>\n",
       "      <td>2023-03-01 00:07:47</td>\n",
       "      <td>2023-03-01 00:46:19.019399</td>\n",
       "    </tr>\n",
       "    <tr>\n",
       "      <th>4</th>\n",
       "      <td>1523115</td>\n",
       "      <td>2023-03-01 00:09:03</td>\n",
       "      <td>2023-03-01 00:25:13.619056</td>\n",
       "    </tr>\n",
       "    <tr>\n",
       "      <th>...</th>\n",
       "      <td>...</td>\n",
       "      <td>...</td>\n",
       "      <td>...</td>\n",
       "    </tr>\n",
       "    <tr>\n",
       "      <th>14995</th>\n",
       "      <td>1538106</td>\n",
       "      <td>2023-03-27 23:37:05</td>\n",
       "      <td>2023-03-27 23:52:37.409378</td>\n",
       "    </tr>\n",
       "    <tr>\n",
       "      <th>14996</th>\n",
       "      <td>1538107</td>\n",
       "      <td>2023-03-27 23:47:38</td>\n",
       "      <td>2023-03-28 00:04:22.672912</td>\n",
       "    </tr>\n",
       "    <tr>\n",
       "      <th>14997</th>\n",
       "      <td>1538108</td>\n",
       "      <td>2023-03-27 23:50:16</td>\n",
       "      <td>2023-03-28 00:05:40.676238</td>\n",
       "    </tr>\n",
       "    <tr>\n",
       "      <th>14998</th>\n",
       "      <td>1538109</td>\n",
       "      <td>2023-03-27 23:52:44</td>\n",
       "      <td>2023-03-28 00:08:41.810358</td>\n",
       "    </tr>\n",
       "    <tr>\n",
       "      <th>14999</th>\n",
       "      <td>1538110</td>\n",
       "      <td>2023-03-27 23:58:20</td>\n",
       "      <td>2023-03-28 00:13:42.499311</td>\n",
       "    </tr>\n",
       "  </tbody>\n",
       "</table>\n",
       "<p>15000 rows × 3 columns</p>\n",
       "</div>"
      ],
      "text/plain": [
       "       order_id      order_placed_at          order_delivered_at\n",
       "0       1523111  2023-03-01 00:00:59  2023-03-01 00:18:07.443132\n",
       "1       1523112  2023-03-01 00:03:59  2023-03-01 00:19:34.925241\n",
       "2       1523113  2023-03-01 00:07:22  2023-03-01 00:22:28.291385\n",
       "3       1523114  2023-03-01 00:07:47  2023-03-01 00:46:19.019399\n",
       "4       1523115  2023-03-01 00:09:03  2023-03-01 00:25:13.619056\n",
       "...         ...                  ...                         ...\n",
       "14995   1538106  2023-03-27 23:37:05  2023-03-27 23:52:37.409378\n",
       "14996   1538107  2023-03-27 23:47:38  2023-03-28 00:04:22.672912\n",
       "14997   1538108  2023-03-27 23:50:16  2023-03-28 00:05:40.676238\n",
       "14998   1538109  2023-03-27 23:52:44  2023-03-28 00:08:41.810358\n",
       "14999   1538110  2023-03-27 23:58:20  2023-03-28 00:13:42.499311\n",
       "\n",
       "[15000 rows x 3 columns]"
      ]
     },
     "execution_count": 4,
     "metadata": {},
     "output_type": "execute_result"
    }
   ],
   "source": [
    "df"
   ]
  },
  {
   "cell_type": "code",
   "execution_count": 5,
   "id": "c62f0708",
   "metadata": {},
   "outputs": [
    {
     "data": {
      "text/html": [
       "<div>\n",
       "<style scoped>\n",
       "    .dataframe tbody tr th:only-of-type {\n",
       "        vertical-align: middle;\n",
       "    }\n",
       "\n",
       "    .dataframe tbody tr th {\n",
       "        vertical-align: top;\n",
       "    }\n",
       "\n",
       "    .dataframe thead th {\n",
       "        text-align: right;\n",
       "    }\n",
       "</style>\n",
       "<table border=\"1\" class=\"dataframe\">\n",
       "  <thead>\n",
       "    <tr style=\"text-align: right;\">\n",
       "      <th></th>\n",
       "      <th>order_id</th>\n",
       "      <th>order_placed_at</th>\n",
       "      <th>order_delivered_at</th>\n",
       "    </tr>\n",
       "  </thead>\n",
       "  <tbody>\n",
       "    <tr>\n",
       "      <th>0</th>\n",
       "      <td>1523111</td>\n",
       "      <td>2023-03-01 00:00:59</td>\n",
       "      <td>2023-03-01 00:18:07.443132</td>\n",
       "    </tr>\n",
       "    <tr>\n",
       "      <th>1</th>\n",
       "      <td>1523112</td>\n",
       "      <td>2023-03-01 00:03:59</td>\n",
       "      <td>2023-03-01 00:19:34.925241</td>\n",
       "    </tr>\n",
       "    <tr>\n",
       "      <th>2</th>\n",
       "      <td>1523113</td>\n",
       "      <td>2023-03-01 00:07:22</td>\n",
       "      <td>2023-03-01 00:22:28.291385</td>\n",
       "    </tr>\n",
       "    <tr>\n",
       "      <th>3</th>\n",
       "      <td>1523114</td>\n",
       "      <td>2023-03-01 00:07:47</td>\n",
       "      <td>2023-03-01 00:46:19.019399</td>\n",
       "    </tr>\n",
       "    <tr>\n",
       "      <th>4</th>\n",
       "      <td>1523115</td>\n",
       "      <td>2023-03-01 00:09:03</td>\n",
       "      <td>2023-03-01 00:25:13.619056</td>\n",
       "    </tr>\n",
       "  </tbody>\n",
       "</table>\n",
       "</div>"
      ],
      "text/plain": [
       "   order_id      order_placed_at          order_delivered_at\n",
       "0   1523111  2023-03-01 00:00:59  2023-03-01 00:18:07.443132\n",
       "1   1523112  2023-03-01 00:03:59  2023-03-01 00:19:34.925241\n",
       "2   1523113  2023-03-01 00:07:22  2023-03-01 00:22:28.291385\n",
       "3   1523114  2023-03-01 00:07:47  2023-03-01 00:46:19.019399\n",
       "4   1523115  2023-03-01 00:09:03  2023-03-01 00:25:13.619056"
      ]
     },
     "execution_count": 5,
     "metadata": {},
     "output_type": "execute_result"
    }
   ],
   "source": [
    "df.head()"
   ]
  },
  {
   "cell_type": "code",
   "execution_count": 6,
   "id": "04abf3a7",
   "metadata": {},
   "outputs": [
    {
     "data": {
      "text/html": [
       "<div>\n",
       "<style scoped>\n",
       "    .dataframe tbody tr th:only-of-type {\n",
       "        vertical-align: middle;\n",
       "    }\n",
       "\n",
       "    .dataframe tbody tr th {\n",
       "        vertical-align: top;\n",
       "    }\n",
       "\n",
       "    .dataframe thead th {\n",
       "        text-align: right;\n",
       "    }\n",
       "</style>\n",
       "<table border=\"1\" class=\"dataframe\">\n",
       "  <thead>\n",
       "    <tr style=\"text-align: right;\">\n",
       "      <th></th>\n",
       "      <th>order_id</th>\n",
       "      <th>order_placed_at</th>\n",
       "      <th>order_delivered_at</th>\n",
       "    </tr>\n",
       "  </thead>\n",
       "  <tbody>\n",
       "    <tr>\n",
       "      <th>14995</th>\n",
       "      <td>1538106</td>\n",
       "      <td>2023-03-27 23:37:05</td>\n",
       "      <td>2023-03-27 23:52:37.409378</td>\n",
       "    </tr>\n",
       "    <tr>\n",
       "      <th>14996</th>\n",
       "      <td>1538107</td>\n",
       "      <td>2023-03-27 23:47:38</td>\n",
       "      <td>2023-03-28 00:04:22.672912</td>\n",
       "    </tr>\n",
       "    <tr>\n",
       "      <th>14997</th>\n",
       "      <td>1538108</td>\n",
       "      <td>2023-03-27 23:50:16</td>\n",
       "      <td>2023-03-28 00:05:40.676238</td>\n",
       "    </tr>\n",
       "    <tr>\n",
       "      <th>14998</th>\n",
       "      <td>1538109</td>\n",
       "      <td>2023-03-27 23:52:44</td>\n",
       "      <td>2023-03-28 00:08:41.810358</td>\n",
       "    </tr>\n",
       "    <tr>\n",
       "      <th>14999</th>\n",
       "      <td>1538110</td>\n",
       "      <td>2023-03-27 23:58:20</td>\n",
       "      <td>2023-03-28 00:13:42.499311</td>\n",
       "    </tr>\n",
       "  </tbody>\n",
       "</table>\n",
       "</div>"
      ],
      "text/plain": [
       "       order_id      order_placed_at          order_delivered_at\n",
       "14995   1538106  2023-03-27 23:37:05  2023-03-27 23:52:37.409378\n",
       "14996   1538107  2023-03-27 23:47:38  2023-03-28 00:04:22.672912\n",
       "14997   1538108  2023-03-27 23:50:16  2023-03-28 00:05:40.676238\n",
       "14998   1538109  2023-03-27 23:52:44  2023-03-28 00:08:41.810358\n",
       "14999   1538110  2023-03-27 23:58:20  2023-03-28 00:13:42.499311"
      ]
     },
     "execution_count": 6,
     "metadata": {},
     "output_type": "execute_result"
    }
   ],
   "source": [
    "df.tail()"
   ]
  },
  {
   "cell_type": "code",
   "execution_count": 7,
   "id": "2ed2f709",
   "metadata": {},
   "outputs": [
    {
     "name": "stdout",
     "output_type": "stream",
     "text": [
      "<class 'pandas.core.frame.DataFrame'>\n",
      "RangeIndex: 15000 entries, 0 to 14999\n",
      "Data columns (total 3 columns):\n",
      " #   Column              Non-Null Count  Dtype \n",
      "---  ------              --------------  ----- \n",
      " 0   order_id            15000 non-null  int64 \n",
      " 1   order_placed_at     15000 non-null  object\n",
      " 2   order_delivered_at  15000 non-null  object\n",
      "dtypes: int64(1), object(2)\n",
      "memory usage: 351.7+ KB\n"
     ]
    }
   ],
   "source": [
    "df.info()"
   ]
  },
  {
   "cell_type": "code",
   "execution_count": 8,
   "id": "99e9fa67",
   "metadata": {},
   "outputs": [
    {
     "data": {
      "text/plain": [
       "Index(['order_id', 'order_placed_at', 'order_delivered_at'], dtype='object')"
      ]
     },
     "execution_count": 8,
     "metadata": {},
     "output_type": "execute_result"
    }
   ],
   "source": [
    "df.columns"
   ]
  },
  {
   "cell_type": "code",
   "execution_count": 9,
   "id": "9ceba79e",
   "metadata": {},
   "outputs": [
    {
     "data": {
      "text/plain": [
       "(15000, 3)"
      ]
     },
     "execution_count": 9,
     "metadata": {},
     "output_type": "execute_result"
    }
   ],
   "source": [
    "df.shape"
   ]
  },
  {
   "cell_type": "code",
   "execution_count": 10,
   "id": "e0c0f313",
   "metadata": {},
   "outputs": [
    {
     "data": {
      "text/plain": [
       "45000"
      ]
     },
     "execution_count": 10,
     "metadata": {},
     "output_type": "execute_result"
    }
   ],
   "source": [
    "df.size"
   ]
  },
  {
   "cell_type": "code",
   "execution_count": 11,
   "id": "d9175c19",
   "metadata": {},
   "outputs": [
    {
     "data": {
      "text/html": [
       "<div>\n",
       "<style scoped>\n",
       "    .dataframe tbody tr th:only-of-type {\n",
       "        vertical-align: middle;\n",
       "    }\n",
       "\n",
       "    .dataframe tbody tr th {\n",
       "        vertical-align: top;\n",
       "    }\n",
       "\n",
       "    .dataframe thead th {\n",
       "        text-align: right;\n",
       "    }\n",
       "</style>\n",
       "<table border=\"1\" class=\"dataframe\">\n",
       "  <thead>\n",
       "    <tr style=\"text-align: right;\">\n",
       "      <th></th>\n",
       "      <th>order_id</th>\n",
       "    </tr>\n",
       "  </thead>\n",
       "  <tbody>\n",
       "    <tr>\n",
       "      <th>count</th>\n",
       "      <td>1.500000e+04</td>\n",
       "    </tr>\n",
       "    <tr>\n",
       "      <th>mean</th>\n",
       "      <td>1.530610e+06</td>\n",
       "    </tr>\n",
       "    <tr>\n",
       "      <th>std</th>\n",
       "      <td>4.330271e+03</td>\n",
       "    </tr>\n",
       "    <tr>\n",
       "      <th>min</th>\n",
       "      <td>1.523111e+06</td>\n",
       "    </tr>\n",
       "    <tr>\n",
       "      <th>25%</th>\n",
       "      <td>1.526861e+06</td>\n",
       "    </tr>\n",
       "    <tr>\n",
       "      <th>50%</th>\n",
       "      <td>1.530610e+06</td>\n",
       "    </tr>\n",
       "    <tr>\n",
       "      <th>75%</th>\n",
       "      <td>1.534360e+06</td>\n",
       "    </tr>\n",
       "    <tr>\n",
       "      <th>max</th>\n",
       "      <td>1.538110e+06</td>\n",
       "    </tr>\n",
       "  </tbody>\n",
       "</table>\n",
       "</div>"
      ],
      "text/plain": [
       "           order_id\n",
       "count  1.500000e+04\n",
       "mean   1.530610e+06\n",
       "std    4.330271e+03\n",
       "min    1.523111e+06\n",
       "25%    1.526861e+06\n",
       "50%    1.530610e+06\n",
       "75%    1.534360e+06\n",
       "max    1.538110e+06"
      ]
     },
     "execution_count": 11,
     "metadata": {},
     "output_type": "execute_result"
    }
   ],
   "source": [
    "df.describe()"
   ]
  },
  {
   "cell_type": "code",
   "execution_count": 12,
   "id": "ad6a8465",
   "metadata": {},
   "outputs": [],
   "source": [
    "# Convert the order_placed_at and order_delivered_at columns to datetime format\n",
    "df['order_placed_at'] = pd.to_datetime(df['order_placed_at'])\n",
    "df['order_delivered_at'] = pd.to_datetime(df['order_delivered_at'])"
   ]
  },
  {
   "cell_type": "code",
   "execution_count": 13,
   "id": "e16c4a50",
   "metadata": {},
   "outputs": [
    {
     "data": {
      "text/plain": [
       "array([2023], dtype=int64)"
      ]
     },
     "execution_count": 13,
     "metadata": {},
     "output_type": "execute_result"
    }
   ],
   "source": [
    "order_year=df[\"order_placed_at\"].dt.year\n",
    "order_year.unique()"
   ]
  },
  {
   "cell_type": "code",
   "execution_count": 14,
   "id": "a7422c50",
   "metadata": {},
   "outputs": [
    {
     "data": {
      "text/plain": [
       "array([3], dtype=int64)"
      ]
     },
     "execution_count": 14,
     "metadata": {},
     "output_type": "execute_result"
    }
   ],
   "source": [
    "order_month=df[\"order_placed_at\"].dt.month\n",
    "order_month.unique()"
   ]
  },
  {
   "cell_type": "code",
   "execution_count": 15,
   "id": "e6a2bea2",
   "metadata": {},
   "outputs": [
    {
     "data": {
      "text/plain": [
       "array([datetime.date(2023, 3, 1), datetime.date(2023, 3, 2),\n",
       "       datetime.date(2023, 3, 3), datetime.date(2023, 3, 4),\n",
       "       datetime.date(2023, 3, 5), datetime.date(2023, 3, 6),\n",
       "       datetime.date(2023, 3, 7), datetime.date(2023, 3, 8),\n",
       "       datetime.date(2023, 3, 9), datetime.date(2023, 3, 10),\n",
       "       datetime.date(2023, 3, 11), datetime.date(2023, 3, 12),\n",
       "       datetime.date(2023, 3, 13), datetime.date(2023, 3, 14),\n",
       "       datetime.date(2023, 3, 15), datetime.date(2023, 3, 16),\n",
       "       datetime.date(2023, 3, 17), datetime.date(2023, 3, 18),\n",
       "       datetime.date(2023, 3, 19), datetime.date(2023, 3, 20),\n",
       "       datetime.date(2023, 3, 21), datetime.date(2023, 3, 22),\n",
       "       datetime.date(2023, 3, 23), datetime.date(2023, 3, 24),\n",
       "       datetime.date(2023, 3, 25), datetime.date(2023, 3, 26),\n",
       "       datetime.date(2023, 3, 27)], dtype=object)"
      ]
     },
     "execution_count": 15,
     "metadata": {},
     "output_type": "execute_result"
    }
   ],
   "source": [
    "order_date=df[\"order_placed_at\"].dt.date\n",
    "order_date.unique()"
   ]
  },
  {
   "cell_type": "code",
   "execution_count": 16,
   "id": "5afac6bb",
   "metadata": {},
   "outputs": [
    {
     "data": {
      "text/plain": [
       "array([ 1,  2,  3,  4,  5,  6,  7,  8,  9, 10, 11, 12, 13, 14, 15, 16, 17,\n",
       "       18, 19, 20, 21, 22, 23, 24, 25, 26, 27], dtype=int64)"
      ]
     },
     "execution_count": 16,
     "metadata": {},
     "output_type": "execute_result"
    }
   ],
   "source": [
    "order_date = df['order_placed_at'].dt.day\n",
    "order_date.unique()"
   ]
  },
  {
   "cell_type": "code",
   "execution_count": 17,
   "id": "dc29aacf",
   "metadata": {},
   "outputs": [
    {
     "data": {
      "text/plain": [
       "array(['Wednesday', 'Thursday', 'Friday', 'Saturday', 'Sunday', 'Monday',\n",
       "       'Tuesday'], dtype=object)"
      ]
     },
     "execution_count": 17,
     "metadata": {},
     "output_type": "execute_result"
    }
   ],
   "source": [
    "order_day = df['order_placed_at'].dt.day_name()\n",
    "order_day.unique()"
   ]
  },
  {
   "cell_type": "code",
   "execution_count": 18,
   "id": "7eb69f0c",
   "metadata": {},
   "outputs": [],
   "source": [
    "df['order_date'] = order_date\n",
    "df['order_day'] = order_day"
   ]
  },
  {
   "cell_type": "code",
   "execution_count": 19,
   "id": "92c23bd5",
   "metadata": {},
   "outputs": [
    {
     "data": {
      "text/html": [
       "<div>\n",
       "<style scoped>\n",
       "    .dataframe tbody tr th:only-of-type {\n",
       "        vertical-align: middle;\n",
       "    }\n",
       "\n",
       "    .dataframe tbody tr th {\n",
       "        vertical-align: top;\n",
       "    }\n",
       "\n",
       "    .dataframe thead th {\n",
       "        text-align: right;\n",
       "    }\n",
       "</style>\n",
       "<table border=\"1\" class=\"dataframe\">\n",
       "  <thead>\n",
       "    <tr style=\"text-align: right;\">\n",
       "      <th></th>\n",
       "      <th>order_id</th>\n",
       "      <th>order_placed_at</th>\n",
       "      <th>order_delivered_at</th>\n",
       "      <th>order_date</th>\n",
       "      <th>order_day</th>\n",
       "    </tr>\n",
       "  </thead>\n",
       "  <tbody>\n",
       "    <tr>\n",
       "      <th>0</th>\n",
       "      <td>1523111</td>\n",
       "      <td>2023-03-01 00:00:59</td>\n",
       "      <td>2023-03-01 00:18:07.443132</td>\n",
       "      <td>1</td>\n",
       "      <td>Wednesday</td>\n",
       "    </tr>\n",
       "    <tr>\n",
       "      <th>1</th>\n",
       "      <td>1523112</td>\n",
       "      <td>2023-03-01 00:03:59</td>\n",
       "      <td>2023-03-01 00:19:34.925241</td>\n",
       "      <td>1</td>\n",
       "      <td>Wednesday</td>\n",
       "    </tr>\n",
       "    <tr>\n",
       "      <th>2</th>\n",
       "      <td>1523113</td>\n",
       "      <td>2023-03-01 00:07:22</td>\n",
       "      <td>2023-03-01 00:22:28.291385</td>\n",
       "      <td>1</td>\n",
       "      <td>Wednesday</td>\n",
       "    </tr>\n",
       "    <tr>\n",
       "      <th>3</th>\n",
       "      <td>1523114</td>\n",
       "      <td>2023-03-01 00:07:47</td>\n",
       "      <td>2023-03-01 00:46:19.019399</td>\n",
       "      <td>1</td>\n",
       "      <td>Wednesday</td>\n",
       "    </tr>\n",
       "    <tr>\n",
       "      <th>4</th>\n",
       "      <td>1523115</td>\n",
       "      <td>2023-03-01 00:09:03</td>\n",
       "      <td>2023-03-01 00:25:13.619056</td>\n",
       "      <td>1</td>\n",
       "      <td>Wednesday</td>\n",
       "    </tr>\n",
       "    <tr>\n",
       "      <th>...</th>\n",
       "      <td>...</td>\n",
       "      <td>...</td>\n",
       "      <td>...</td>\n",
       "      <td>...</td>\n",
       "      <td>...</td>\n",
       "    </tr>\n",
       "    <tr>\n",
       "      <th>14995</th>\n",
       "      <td>1538106</td>\n",
       "      <td>2023-03-27 23:37:05</td>\n",
       "      <td>2023-03-27 23:52:37.409378</td>\n",
       "      <td>27</td>\n",
       "      <td>Monday</td>\n",
       "    </tr>\n",
       "    <tr>\n",
       "      <th>14996</th>\n",
       "      <td>1538107</td>\n",
       "      <td>2023-03-27 23:47:38</td>\n",
       "      <td>2023-03-28 00:04:22.672912</td>\n",
       "      <td>27</td>\n",
       "      <td>Monday</td>\n",
       "    </tr>\n",
       "    <tr>\n",
       "      <th>14997</th>\n",
       "      <td>1538108</td>\n",
       "      <td>2023-03-27 23:50:16</td>\n",
       "      <td>2023-03-28 00:05:40.676238</td>\n",
       "      <td>27</td>\n",
       "      <td>Monday</td>\n",
       "    </tr>\n",
       "    <tr>\n",
       "      <th>14998</th>\n",
       "      <td>1538109</td>\n",
       "      <td>2023-03-27 23:52:44</td>\n",
       "      <td>2023-03-28 00:08:41.810358</td>\n",
       "      <td>27</td>\n",
       "      <td>Monday</td>\n",
       "    </tr>\n",
       "    <tr>\n",
       "      <th>14999</th>\n",
       "      <td>1538110</td>\n",
       "      <td>2023-03-27 23:58:20</td>\n",
       "      <td>2023-03-28 00:13:42.499311</td>\n",
       "      <td>27</td>\n",
       "      <td>Monday</td>\n",
       "    </tr>\n",
       "  </tbody>\n",
       "</table>\n",
       "<p>15000 rows × 5 columns</p>\n",
       "</div>"
      ],
      "text/plain": [
       "       order_id     order_placed_at         order_delivered_at  order_date  \\\n",
       "0       1523111 2023-03-01 00:00:59 2023-03-01 00:18:07.443132           1   \n",
       "1       1523112 2023-03-01 00:03:59 2023-03-01 00:19:34.925241           1   \n",
       "2       1523113 2023-03-01 00:07:22 2023-03-01 00:22:28.291385           1   \n",
       "3       1523114 2023-03-01 00:07:47 2023-03-01 00:46:19.019399           1   \n",
       "4       1523115 2023-03-01 00:09:03 2023-03-01 00:25:13.619056           1   \n",
       "...         ...                 ...                        ...         ...   \n",
       "14995   1538106 2023-03-27 23:37:05 2023-03-27 23:52:37.409378          27   \n",
       "14996   1538107 2023-03-27 23:47:38 2023-03-28 00:04:22.672912          27   \n",
       "14997   1538108 2023-03-27 23:50:16 2023-03-28 00:05:40.676238          27   \n",
       "14998   1538109 2023-03-27 23:52:44 2023-03-28 00:08:41.810358          27   \n",
       "14999   1538110 2023-03-27 23:58:20 2023-03-28 00:13:42.499311          27   \n",
       "\n",
       "       order_day  \n",
       "0      Wednesday  \n",
       "1      Wednesday  \n",
       "2      Wednesday  \n",
       "3      Wednesday  \n",
       "4      Wednesday  \n",
       "...          ...  \n",
       "14995     Monday  \n",
       "14996     Monday  \n",
       "14997     Monday  \n",
       "14998     Monday  \n",
       "14999     Monday  \n",
       "\n",
       "[15000 rows x 5 columns]"
      ]
     },
     "execution_count": 19,
     "metadata": {},
     "output_type": "execute_result"
    }
   ],
   "source": [
    "df"
   ]
  },
  {
   "cell_type": "code",
   "execution_count": 20,
   "id": "3c9d1fa2",
   "metadata": {},
   "outputs": [
    {
     "data": {
      "text/plain": [
       "Thursday     2280\n",
       "Wednesday    2259\n",
       "Monday       2256\n",
       "Friday       2223\n",
       "Saturday     2209\n",
       "Sunday       2191\n",
       "Tuesday      1582\n",
       "Name: order_day, dtype: int64"
      ]
     },
     "execution_count": 20,
     "metadata": {},
     "output_type": "execute_result"
    }
   ],
   "source": [
    "df['order_day'].value_counts()"
   ]
  },
  {
   "cell_type": "code",
   "execution_count": 21,
   "id": "ed7e7e2e",
   "metadata": {},
   "outputs": [
    {
     "data": {
      "text/plain": [
       "count        15000\n",
       "unique           7\n",
       "top       Thursday\n",
       "freq          2280\n",
       "Name: order_day, dtype: object"
      ]
     },
     "execution_count": 21,
     "metadata": {},
     "output_type": "execute_result"
    }
   ],
   "source": [
    "df['order_day'].describe()"
   ]
  },
  {
   "cell_type": "code",
   "execution_count": 22,
   "id": "6795a428",
   "metadata": {},
   "outputs": [],
   "source": [
    "# Calculate the delivery time for each order\n",
    "delivery_time = df['order_delivered_at'] - df['order_placed_at']"
   ]
  },
  {
   "cell_type": "code",
   "execution_count": 23,
   "id": "655e4251",
   "metadata": {},
   "outputs": [
    {
     "data": {
      "text/plain": [
       "0        17.140719\n",
       "1        15.598754\n",
       "2        15.104856\n",
       "3        38.533657\n",
       "4        16.176984\n",
       "           ...    \n",
       "14995    15.540156\n",
       "14996    16.744549\n",
       "14997    15.411271\n",
       "14998    15.963506\n",
       "14999    15.374989\n",
       "Length: 15000, dtype: float64"
      ]
     },
     "execution_count": 23,
     "metadata": {},
     "output_type": "execute_result"
    }
   ],
   "source": [
    "delivery_time = delivery_time.dt.total_seconds()/60\n",
    "delivery_time"
   ]
  },
  {
   "cell_type": "code",
   "execution_count": 24,
   "id": "4cf8e248",
   "metadata": {},
   "outputs": [],
   "source": [
    "df['delivery_time'] = delivery_time"
   ]
  },
  {
   "cell_type": "code",
   "execution_count": 25,
   "id": "b4f7a65b",
   "metadata": {},
   "outputs": [
    {
     "data": {
      "text/html": [
       "<div>\n",
       "<style scoped>\n",
       "    .dataframe tbody tr th:only-of-type {\n",
       "        vertical-align: middle;\n",
       "    }\n",
       "\n",
       "    .dataframe tbody tr th {\n",
       "        vertical-align: top;\n",
       "    }\n",
       "\n",
       "    .dataframe thead th {\n",
       "        text-align: right;\n",
       "    }\n",
       "</style>\n",
       "<table border=\"1\" class=\"dataframe\">\n",
       "  <thead>\n",
       "    <tr style=\"text-align: right;\">\n",
       "      <th></th>\n",
       "      <th>order_id</th>\n",
       "      <th>order_placed_at</th>\n",
       "      <th>order_delivered_at</th>\n",
       "      <th>order_date</th>\n",
       "      <th>order_day</th>\n",
       "      <th>delivery_time</th>\n",
       "    </tr>\n",
       "  </thead>\n",
       "  <tbody>\n",
       "    <tr>\n",
       "      <th>0</th>\n",
       "      <td>1523111</td>\n",
       "      <td>2023-03-01 00:00:59</td>\n",
       "      <td>2023-03-01 00:18:07.443132</td>\n",
       "      <td>1</td>\n",
       "      <td>Wednesday</td>\n",
       "      <td>17.140719</td>\n",
       "    </tr>\n",
       "    <tr>\n",
       "      <th>1</th>\n",
       "      <td>1523112</td>\n",
       "      <td>2023-03-01 00:03:59</td>\n",
       "      <td>2023-03-01 00:19:34.925241</td>\n",
       "      <td>1</td>\n",
       "      <td>Wednesday</td>\n",
       "      <td>15.598754</td>\n",
       "    </tr>\n",
       "    <tr>\n",
       "      <th>2</th>\n",
       "      <td>1523113</td>\n",
       "      <td>2023-03-01 00:07:22</td>\n",
       "      <td>2023-03-01 00:22:28.291385</td>\n",
       "      <td>1</td>\n",
       "      <td>Wednesday</td>\n",
       "      <td>15.104856</td>\n",
       "    </tr>\n",
       "    <tr>\n",
       "      <th>3</th>\n",
       "      <td>1523114</td>\n",
       "      <td>2023-03-01 00:07:47</td>\n",
       "      <td>2023-03-01 00:46:19.019399</td>\n",
       "      <td>1</td>\n",
       "      <td>Wednesday</td>\n",
       "      <td>38.533657</td>\n",
       "    </tr>\n",
       "    <tr>\n",
       "      <th>4</th>\n",
       "      <td>1523115</td>\n",
       "      <td>2023-03-01 00:09:03</td>\n",
       "      <td>2023-03-01 00:25:13.619056</td>\n",
       "      <td>1</td>\n",
       "      <td>Wednesday</td>\n",
       "      <td>16.176984</td>\n",
       "    </tr>\n",
       "    <tr>\n",
       "      <th>...</th>\n",
       "      <td>...</td>\n",
       "      <td>...</td>\n",
       "      <td>...</td>\n",
       "      <td>...</td>\n",
       "      <td>...</td>\n",
       "      <td>...</td>\n",
       "    </tr>\n",
       "    <tr>\n",
       "      <th>14995</th>\n",
       "      <td>1538106</td>\n",
       "      <td>2023-03-27 23:37:05</td>\n",
       "      <td>2023-03-27 23:52:37.409378</td>\n",
       "      <td>27</td>\n",
       "      <td>Monday</td>\n",
       "      <td>15.540156</td>\n",
       "    </tr>\n",
       "    <tr>\n",
       "      <th>14996</th>\n",
       "      <td>1538107</td>\n",
       "      <td>2023-03-27 23:47:38</td>\n",
       "      <td>2023-03-28 00:04:22.672912</td>\n",
       "      <td>27</td>\n",
       "      <td>Monday</td>\n",
       "      <td>16.744549</td>\n",
       "    </tr>\n",
       "    <tr>\n",
       "      <th>14997</th>\n",
       "      <td>1538108</td>\n",
       "      <td>2023-03-27 23:50:16</td>\n",
       "      <td>2023-03-28 00:05:40.676238</td>\n",
       "      <td>27</td>\n",
       "      <td>Monday</td>\n",
       "      <td>15.411271</td>\n",
       "    </tr>\n",
       "    <tr>\n",
       "      <th>14998</th>\n",
       "      <td>1538109</td>\n",
       "      <td>2023-03-27 23:52:44</td>\n",
       "      <td>2023-03-28 00:08:41.810358</td>\n",
       "      <td>27</td>\n",
       "      <td>Monday</td>\n",
       "      <td>15.963506</td>\n",
       "    </tr>\n",
       "    <tr>\n",
       "      <th>14999</th>\n",
       "      <td>1538110</td>\n",
       "      <td>2023-03-27 23:58:20</td>\n",
       "      <td>2023-03-28 00:13:42.499311</td>\n",
       "      <td>27</td>\n",
       "      <td>Monday</td>\n",
       "      <td>15.374989</td>\n",
       "    </tr>\n",
       "  </tbody>\n",
       "</table>\n",
       "<p>15000 rows × 6 columns</p>\n",
       "</div>"
      ],
      "text/plain": [
       "       order_id     order_placed_at         order_delivered_at  order_date  \\\n",
       "0       1523111 2023-03-01 00:00:59 2023-03-01 00:18:07.443132           1   \n",
       "1       1523112 2023-03-01 00:03:59 2023-03-01 00:19:34.925241           1   \n",
       "2       1523113 2023-03-01 00:07:22 2023-03-01 00:22:28.291385           1   \n",
       "3       1523114 2023-03-01 00:07:47 2023-03-01 00:46:19.019399           1   \n",
       "4       1523115 2023-03-01 00:09:03 2023-03-01 00:25:13.619056           1   \n",
       "...         ...                 ...                        ...         ...   \n",
       "14995   1538106 2023-03-27 23:37:05 2023-03-27 23:52:37.409378          27   \n",
       "14996   1538107 2023-03-27 23:47:38 2023-03-28 00:04:22.672912          27   \n",
       "14997   1538108 2023-03-27 23:50:16 2023-03-28 00:05:40.676238          27   \n",
       "14998   1538109 2023-03-27 23:52:44 2023-03-28 00:08:41.810358          27   \n",
       "14999   1538110 2023-03-27 23:58:20 2023-03-28 00:13:42.499311          27   \n",
       "\n",
       "       order_day  delivery_time  \n",
       "0      Wednesday      17.140719  \n",
       "1      Wednesday      15.598754  \n",
       "2      Wednesday      15.104856  \n",
       "3      Wednesday      38.533657  \n",
       "4      Wednesday      16.176984  \n",
       "...          ...            ...  \n",
       "14995     Monday      15.540156  \n",
       "14996     Monday      16.744549  \n",
       "14997     Monday      15.411271  \n",
       "14998     Monday      15.963506  \n",
       "14999     Monday      15.374989  \n",
       "\n",
       "[15000 rows x 6 columns]"
      ]
     },
     "execution_count": 25,
     "metadata": {},
     "output_type": "execute_result"
    }
   ],
   "source": [
    "df"
   ]
  },
  {
   "cell_type": "code",
   "execution_count": 26,
   "id": "dfcc7b91",
   "metadata": {
    "scrolled": true
   },
   "outputs": [
    {
     "data": {
      "text/plain": [
       "count    15000.000000\n",
       "mean        20.499389\n",
       "std         96.160362\n",
       "min         15.000010\n",
       "25%         15.274826\n",
       "50%         15.797986\n",
       "75%         17.279661\n",
       "max       7299.831375\n",
       "Name: delivery_time, dtype: float64"
      ]
     },
     "execution_count": 26,
     "metadata": {},
     "output_type": "execute_result"
    }
   ],
   "source": [
    "df['delivery_time'].describe()"
   ]
  },
  {
   "cell_type": "code",
   "execution_count": 27,
   "id": "165e020b",
   "metadata": {
    "scrolled": false
   },
   "outputs": [
    {
     "data": {
      "text/plain": [
       "<AxesSubplot:>"
      ]
     },
     "execution_count": 27,
     "metadata": {},
     "output_type": "execute_result"
    },
    {
     "data": {
      "image/png": "[encoded data removed]",
      "text/plain": [
       "<Figure size 640x480 with 1 Axes>"
      ]
     },
     "metadata": {},
     "output_type": "display_data"
    }
   ],
   "source": [
    "df['delivery_time'].plot(kind = 'box',color='red')"
   ]
  },
  {
   "cell_type": "markdown",
   "id": "d5318515",
   "metadata": {},
   "source": [
    "### Teating outliers"
   ]
  },
  {
   "cell_type": "code",
   "execution_count": 28,
   "id": "0f9c7e47",
   "metadata": {},
   "outputs": [],
   "source": [
    "df1 =df[df['delivery_time'] < 40]"
   ]
  },
  {
   "cell_type": "code",
   "execution_count": 29,
   "id": "6f70b3f3",
   "metadata": {},
   "outputs": [
    {
     "data": {
      "text/plain": [
       "count    14669.000000\n",
       "mean        16.992520\n",
       "std          3.361265\n",
       "min         15.000010\n",
       "25%         15.266572\n",
       "50%         15.763923\n",
       "75%         17.099512\n",
       "max         39.918947\n",
       "Name: delivery_time, dtype: float64"
      ]
     },
     "execution_count": 29,
     "metadata": {},
     "output_type": "execute_result"
    }
   ],
   "source": [
    "df1['delivery_time'].describe()"
   ]
  },
  {
   "cell_type": "code",
   "execution_count": 30,
   "id": "de0843d8",
   "metadata": {},
   "outputs": [
    {
     "data": {
      "text/plain": [
       "<AxesSubplot:>"
      ]
     },
     "execution_count": 30,
     "metadata": {},
     "output_type": "execute_result"
    },
    {
     "data": {
      "image/png": "[encoded data removed]",
      "text/plain": [
       "<Figure size 640x480 with 1 Axes>"
      ]
     },
     "metadata": {},
     "output_type": "display_data"
    }
   ],
   "source": [
    "df1['delivery_time'].plot(kind = 'box',color='red')"
   ]
  },
  {
   "cell_type": "markdown",
   "id": "0d8bca1d",
   "metadata": {},
   "source": [
    "### Data Visualization"
   ]
  },
  {
   "cell_type": "code",
   "execution_count": 43,
   "id": "bebeb1d3",
   "metadata": {},
   "outputs": [
    {
     "name": "stdout",
     "output_type": "stream",
     "text": [
      "95th percentile of delivery time: 23.596276583333314\n"
     ]
    }
   ],
   "source": [
    "# Calculate the 95th percentile of delivery time\n",
    "percentile_95 = df1['delivery_time'].quantile(0.95)\n",
    "print('95th percentile of delivery time:', percentile_95)"
   ]
  },
  {
   "cell_type": "code",
   "execution_count": 44,
   "id": "fe7c7212",
   "metadata": {},
   "outputs": [
    {
     "data": {
      "image/png": "[encoded data removed]",
      "text/plain": [
       "<Figure size 640x480 with 1 Axes>"
      ]
     },
     "metadata": {},
     "output_type": "display_data"
    }
   ],
   "source": [
    "# Add a vertical line at the 95th percentile value\n",
    "plt.axvline(percentile_95, color='y', linestyle='--', label='95th percentile')\n",
    "\n",
    "# Set the plot title and axis labels\n",
    "plt.title('Distribution of pizza delivery times')\n",
    "plt.xlabel('Delivery Time (minutes)')\n",
    "plt.ylabel('Number of Orders')\n",
    "\n",
    "# Add a legend to the plot\n",
    "plt.legend()\n",
    "\n",
    "# Show the plot\n",
    "plt.show()"
   ]
  },
  {
   "cell_type": "code",
   "execution_count": 45,
   "id": "d2bab055",
   "metadata": {},
   "outputs": [
    {
     "data": {
      "image/png": "[encoded data removed]",
      "text/plain": [
       "<Figure size 640x480 with 1 Axes>"
      ]
     },
     "metadata": {},
     "output_type": "display_data"
    }
   ],
   "source": [
    "# Create a bar plot of delivery time by day of the week\n",
    "df['day_of_week'] = df['order_placed_at'].dt.day_name()\n",
    "sns.barplot(data=df, x='day_of_week', y='delivery_time')\n",
    "\n",
    "# Set the plot title and axis labels\n",
    "plt.title('Average Delivery Time by Day of the Week')\n",
    "plt.xlabel('Day of the Week')\n",
    "plt.ylabel('Delivery Time (minutes)')\n",
    "\n",
    "# Show the plot\n",
    "plt.show()"
   ]
  },
  {
   "cell_type": "code",
   "execution_count": 46,
   "id": "2f769de5",
   "metadata": {},
   "outputs": [],
   "source": [
    "avg_delivery_time = df.groupby('order_date')['delivery_time'].mean()"
   ]
  },
  {
   "cell_type": "code",
   "execution_count": 47,
   "id": "1defc743",
   "metadata": {},
   "outputs": [
    {
     "data": {
      "image/png": "[encoded data removed]",
      "text/plain": [
       "<Figure size 640x480 with 1 Axes>"
      ]
     },
     "metadata": {},
     "output_type": "display_data"
    }
   ],
   "source": [
    "# Plot a bar chart of the average delivery time by day of the month\n",
    "sns.barplot(x=avg_delivery_time.index, y=avg_delivery_time.values)\n",
    "\n",
    "# Set the plot title and axis labels\n",
    "plt.title('Average Delivery Time by Day of the Month')\n",
    "plt.xlabel('Day of the Month')\n",
    "plt.ylabel('Delivery Time (minutes)')\n",
    "\n",
    "# Show the plot\n",
    "plt.show()"
   ]
  },
  {
   "cell_type": "code",
   "execution_count": 48,
   "id": "15d251fe",
   "metadata": {},
   "outputs": [
    {
     "data": {
      "text/plain": [
       "<AxesSubplot:title={'center':'No.of orders per day'}, xlabel='Days', ylabel='Orders'>"
      ]
     },
     "execution_count": 48,
     "metadata": {},
     "output_type": "execute_result"
    },
    {
     "data": {
      "image/png": "[encoded data removed]",
      "text/plain": [
       "<Figure size 640x480 with 1 Axes>"
      ]
     },
     "metadata": {},
     "output_type": "display_data"
    }
   ],
   "source": [
    "df['order_day'].value_counts().plot(kind='bar',color='purple', title='No.of orders per day',xlabel='Days',ylabel='Orders')"
   ]
  },
  {
   "cell_type": "code",
   "execution_count": 49,
   "id": "e64e91a1",
   "metadata": {},
   "outputs": [
    {
     "data": {
      "text/plain": [
       "<AxesSubplot:title={'center':'Number of orders per date in the month of march'}, xlabel='Date', ylabel='Orders'>"
      ]
     },
     "execution_count": 49,
     "metadata": {},
     "output_type": "execute_result"
    },
    {
     "data": {
      "image/png": "[encoded data removed]",
      "text/plain": [
       "<Figure size 640x480 with 1 Axes>"
      ]
     },
     "metadata": {},
     "output_type": "display_data"
    }
   ],
   "source": [
    "df['order_date'].value_counts().sort_index().plot(kind='bar',color='grey', title='Number of orders per date in the month of march',xlabel='Date',ylabel='Orders')"
   ]
  },
  {
   "cell_type": "code",
   "execution_count": 50,
   "id": "1baac772",
   "metadata": {},
   "outputs": [
    {
     "name": "stdout",
     "output_type": "stream",
     "text": [
      "95th percentile of delivery time: 23.596276583333314\n"
     ]
    }
   ],
   "source": [
    "# Calculate the 95th percentile of delivery time\n",
    "percentile_95 = df1['delivery_time'].quantile(0.95)\n",
    "print('95th percentile of delivery time:', percentile_95)"
   ]
  },
  {
   "cell_type": "code",
   "execution_count": 51,
   "id": "7138e683",
   "metadata": {},
   "outputs": [
    {
     "name": "stdout",
     "output_type": "stream",
     "text": [
      "Number of on-time deliveries: 14443\n"
     ]
    }
   ],
   "source": [
    "on_time_delivery = df1[df1['delivery_time'] < 31].shape[0]\n",
    "print('Number of on-time deliveries:', on_time_delivery)\n"
   ]
  },
  {
   "cell_type": "code",
   "execution_count": 52,
   "id": "5417e08b",
   "metadata": {},
   "outputs": [
    {
     "name": "stdout",
     "output_type": "stream",
     "text": [
      "Number of late deliveries : 226\n"
     ]
    }
   ],
   "source": [
    "late_delivery = df1[df1['delivery_time'] > 31 ].shape[0]\n",
    "print('Number of late deliveries :', late_delivery)"
   ]
  },
  {
   "cell_type": "code",
   "execution_count": 53,
   "id": "05140256",
   "metadata": {},
   "outputs": [
    {
     "name": "stdout",
     "output_type": "stream",
     "text": [
      "Total number of deliveries: 15000\n"
     ]
    }
   ],
   "source": [
    "total_delivery = df['delivery_time'].count()\n",
    "print('Total number of deliveries:', total_delivery)"
   ]
  },
  {
   "cell_type": "code",
   "execution_count": 58,
   "id": "f4379ba9",
   "metadata": {},
   "outputs": [
    {
     "name": "stdout",
     "output_type": "stream",
     "text": [
      "Delivery performance: 98.49333333333334 %\n"
     ]
    }
   ],
   "source": [
    "delivery_performance = (total_delivery - late_delivery) / total_delivery * 100\n",
    "print('Delivery performance:', delivery_performance, '%')"
   ]
  },
  {
   "cell_type": "code",
   "execution_count": 59,
   "id": "3a70682b",
   "metadata": {},
   "outputs": [
    {
     "name": "stdout",
     "output_type": "stream",
     "text": [
      "The pizza delivery store has a 95th percentile of order delivery time less than 31 minutes.\n"
     ]
    }
   ],
   "source": [
    "if percentile_95 <= 31:\n",
    "    print(\"The pizza delivery store has a 95th percentile of order delivery time less than 31 minutes.\")\n",
    "else:\n",
    "    print(\"The pizza delivery store does not have a 95th percentile of order delivery time less than 31 minutes.\")"
   ]
  },
  {
   "cell_type": "markdown",
   "id": "bc98859b",
   "metadata": {},
   "source": [
    "### Conclusion\n",
    "\n",
    "Total number of deliveries: 15000\n",
    "\n",
    "On time deliveries: 14443\n",
    "\n",
    "Late deliveries: 226\n",
    "\n",
    "95 percentile on order delivery time: 23.596 \n",
    "\n",
    "Therefore kanav do not have to worry about the performance of his store."
   ]
  },
  {
   "cell_type": "code",
   "execution_count": null,
   "id": "c05867a0",
   "metadata": {},
   "outputs": [],
   "source": []
  }
 ],
 "metadata": {
  "kernelspec": {
   "display_name": "Python 3 (ipykernel)",
   "language": "python",
   "name": "python3"
  },
  "language_info": {
   "codemirror_mode": {
    "name": "ipython",
    "version": 3
   },
   "file_extension": ".py",
   "mimetype": "text/x-python",
   "name": "python",
   "nbconvert_exporter": "python",
   "pygments_lexer": "ipython3",
   "version": "3.9.13"
  }
 },
 "nbformat": 4,
 "nbformat_minor": 5
}
